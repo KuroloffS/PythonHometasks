{
 "cells": [
  {
   "cell_type": "code",
   "execution_count": null,
   "metadata": {},
   "outputs": [],
   "source": []
  },
  {
   "cell_type": "code",
   "execution_count": 5,
   "metadata": {},
   "outputs": [
    {
     "data": {
      "text/plain": [
       "3"
      ]
     },
     "execution_count": 5,
     "metadata": {},
     "output_type": "execute_result"
    }
   ],
   "source": [
    "def simple_generator():\n",
    "  yield 1\n",
    "  yield 2 \n",
    "  yield 3\n",
    "\n",
    "val = simple_generator()\n",
    "next(val)  \n",
    "next(val)\n",
    "next(val)"
   ]
  },
  {
   "cell_type": "code",
   "execution_count": 8,
   "metadata": {},
   "outputs": [
    {
     "name": "stdout",
     "output_type": "stream",
     "text": [
      "Время работы : 33.53795862197876 сек\n",
      "Время работы : 0.0 сек\n",
      "12 12\n"
     ]
    }
   ],
   "source": [
    "import time \n",
    "def test_timpe(func):\n",
    "  def wrapper(*args, **kwargs):\n",
    "    st = time.time()\n",
    "    res = func(*args, **kwargs)\n",
    "    end = time.time()\n",
    "    dt = end - st\n",
    "    print(f\"Время работы : {dt} сек\")\n",
    "    return res\n",
    "\n",
    "  return wrapper  \n",
    "  \n",
    "@test_timpe    \n",
    "def get_slow_nod(a, b):\n",
    "  while a!=b:\n",
    "    if a > b:\n",
    "      a-=b\n",
    "    else :\n",
    "      b-=a\n",
    "  return a \n",
    "\n",
    "@test_timpe\n",
    "def get_fast_nod(a, b):\n",
    "  if a < b:\n",
    "    a, b = b, a\n",
    "  while b :\n",
    "    a, b = b, a % b \n",
    "  return a   \n",
    "\n",
    "#get_slow_nod = test_timpe(get_slow_nod)\n",
    "#get_fast_nod = test_timpe(get_fast_nod)\n",
    "\n",
    "res = get_slow_nod(48, 10004620020)\n",
    "res2 = get_fast_nod(48, 10004620020)\n",
    "print(res, res2)\n"
   ]
  }
 ],
 "metadata": {
  "kernelspec": {
   "display_name": "Python 3",
   "language": "python",
   "name": "python3"
  },
  "language_info": {
   "codemirror_mode": {
    "name": "ipython",
    "version": 3
   },
   "file_extension": ".py",
   "mimetype": "text/x-python",
   "name": "python",
   "nbconvert_exporter": "python",
   "pygments_lexer": "ipython3",
   "version": "3.11.9"
  }
 },
 "nbformat": 4,
 "nbformat_minor": 2
}
